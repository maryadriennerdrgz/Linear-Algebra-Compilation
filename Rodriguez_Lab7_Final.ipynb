{
  "nbformat": 4,
  "nbformat_minor": 0,
  "metadata": {
    "colab": {
      "name": "Rodriguez_Lab7_Final.ipynb",
      "provenance": [],
      "collapsed_sections": [
        "g8je2Y94T45G",
        "YEiLDP-zWUix",
        "M5NEfWhvXXhu"
      ],
      "authorship_tag": "ABX9TyMbKDU0XvnWMfC+JB/Xd9kf",
      "include_colab_link": true
    },
    "kernelspec": {
      "name": "python3",
      "display_name": "Python 3"
    }
  },
  "cells": [
    {
      "cell_type": "markdown",
      "metadata": {
        "id": "view-in-github",
        "colab_type": "text"
      },
      "source": [
        "<a href=\"https://colab.research.google.com/github/maryadriennerdrgz/Linear-Algebra-Compilation/blob/master/Rodriguez_Lab7_Final.ipynb\" target=\"_parent\"><img src=\"https://colab.research.google.com/assets/colab-badge.svg\" alt=\"Open In Colab\"/></a>"
      ]
    },
    {
      "cell_type": "markdown",
      "metadata": {
        "id": "r7fVfCAwTS2T"
      },
      "source": [
        "#**Linear Algebra for CpE**\n",
        "##**Laboratory 7 : Matrix Operations** <br>\n",
        "Now that you have a fundamental knowledge about representing and operating with vectors as well as the fundamentals of matrices, we'll try to the same operations with matrices and even more. <br>\n",
        "<br>\n",
        "######**Objectives**\n",
        "At the end of this activity you will be able to:\n",
        "1. Be familiar with the fundamental matrix operations.\n",
        "2. Apply the operations to solve intemrediate equations.\n",
        "3. Apply matrix algebra in engineering solutions.\n"
      ]
    },
    {
      "cell_type": "markdown",
      "metadata": {
        "id": "g8je2Y94T45G"
      },
      "source": [
        "#**Discussion**"
      ]
    },
    {
      "cell_type": "code",
      "metadata": {
        "id": "G9tDGImJTNni"
      },
      "source": [
        "import numpy as np\n",
        "import matplotlib.pyplot as plt\n",
        "%matplotlib inline"
      ],
      "execution_count": null,
      "outputs": []
    },
    {
      "cell_type": "markdown",
      "metadata": {
        "id": "YEiLDP-zWUix"
      },
      "source": [
        "#**Transposition**<br>\n",
        "One of the fundamental operations in matrix algebra is Transposition. The transpose of a matrix is done by flipping the values of its elements over its diagonals. With this, the rows and columns from the original matrix will be switched. So for a matrix $A$ its transpose is denoted as $A^T$. So for example:\n",
        "\n",
        "$$A = \\begin{bmatrix} 1 & 2 & 5\\\\5 & -1 & 0 \\\\ 0 & -3 & 3\\end{bmatrix} $$<br>\n",
        "$$ A^T = \\begin{bmatrix} 1 & 5 & 0\\\\2 & -1 &-3 \\\\ 5 & 0 & 3\\end{bmatrix}$$<br>\n",
        "This can now be achieved programmatically by using np.transpose() or using the T method."
      ]
    },
    {
      "cell_type": "code",
      "metadata": {
        "colab": {
          "base_uri": "https://localhost:8080/"
        },
        "id": "-kgEhrJjTSSI",
        "outputId": "dfa2f1aa-3897-4e8a-d20c-bb8491b876da"
      },
      "source": [
        "A = np.array([\n",
        "    [1 ,2, 5],\n",
        "    [5, -1, 0],\n",
        "    [0, -3, 3]\n",
        "])\n",
        "A"
      ],
      "execution_count": null,
      "outputs": [
        {
          "output_type": "execute_result",
          "data": {
            "text/plain": [
              "array([[ 1,  2,  5],\n",
              "       [ 5, -1,  0],\n",
              "       [ 0, -3,  3]])"
            ]
          },
          "metadata": {
            "tags": []
          },
          "execution_count": 3
        }
      ]
    },
    {
      "cell_type": "code",
      "metadata": {
        "id": "iESLid48W_Av"
      },
      "source": [
        "AT1 = np.transpose(A)"
      ],
      "execution_count": null,
      "outputs": []
    },
    {
      "cell_type": "code",
      "metadata": {
        "id": "yP68BiJZXCqn"
      },
      "source": [
        "AT2 = A.T"
      ],
      "execution_count": null,
      "outputs": []
    },
    {
      "cell_type": "code",
      "metadata": {
        "colab": {
          "base_uri": "https://localhost:8080/"
        },
        "id": "D3lJxl0aXE8m",
        "outputId": "eca01bad-09dc-4941-be53-bf5d3d3d13f1"
      },
      "source": [
        "np.array_equiv(AT1, AT2)"
      ],
      "execution_count": null,
      "outputs": [
        {
          "output_type": "execute_result",
          "data": {
            "text/plain": [
              "True"
            ]
          },
          "metadata": {
            "tags": []
          },
          "execution_count": 6
        }
      ]
    },
    {
      "cell_type": "code",
      "metadata": {
        "colab": {
          "base_uri": "https://localhost:8080/"
        },
        "id": "VxvEE63GXG-O",
        "outputId": "170c4885-b19d-4aa2-a3b4-e117579286c2"
      },
      "source": [
        "B = np.array([\n",
        "    [1,2,3,4],\n",
        "    [1,0,2,1],\n",
        "])\n",
        "B.shape"
      ],
      "execution_count": null,
      "outputs": [
        {
          "output_type": "execute_result",
          "data": {
            "text/plain": [
              "(2, 4)"
            ]
          },
          "metadata": {
            "tags": []
          },
          "execution_count": 7
        }
      ]
    },
    {
      "cell_type": "code",
      "metadata": {
        "colab": {
          "base_uri": "https://localhost:8080/"
        },
        "id": "-ZS_BuDUXJu2",
        "outputId": "77401e07-cf77-4d03-d00b-f93d3ee1ba42"
      },
      "source": [
        "np.transpose(B).shape"
      ],
      "execution_count": null,
      "outputs": [
        {
          "output_type": "execute_result",
          "data": {
            "text/plain": [
              "(4, 2)"
            ]
          },
          "metadata": {
            "tags": []
          },
          "execution_count": 8
        }
      ]
    },
    {
      "cell_type": "code",
      "metadata": {
        "colab": {
          "base_uri": "https://localhost:8080/"
        },
        "id": "h2yNmwvCXLxN",
        "outputId": "94ecf3b3-f0c0-4a53-8dbe-d8cbfbbbe3c2"
      },
      "source": [
        "B.T.shape"
      ],
      "execution_count": null,
      "outputs": [
        {
          "output_type": "execute_result",
          "data": {
            "text/plain": [
              "(4, 2)"
            ]
          },
          "metadata": {
            "tags": []
          },
          "execution_count": 9
        }
      ]
    },
    {
      "cell_type": "markdown",
      "metadata": {
        "id": "4FYMFqoxXN58"
      },
      "source": [
        "**Try to create your own matrix (you can try non-squares) to test transposition.**"
      ]
    },
    {
      "cell_type": "code",
      "metadata": {
        "id": "MI1OzNccXVWw"
      },
      "source": [
        "## Try out your code here."
      ],
      "execution_count": null,
      "outputs": []
    },
    {
      "cell_type": "markdown",
      "metadata": {
        "id": "M5NEfWhvXXhu"
      },
      "source": [
        "#**Dot Product / Inner Product**<br>\n",
        "If you recall the dot product from laboratory activity before, we will try to implement the same operation with matrices. In matrix dot product we are going to get the sum of products of the vectors by row-column pairs. So if we have two matrices $X$ and $Y$:<br>\n",
        "<br>\n",
        "$$X = \\begin{bmatrix}x_{(0,0)}&amp;x_{(0,1)}\\\\ x_{(1,0)}&amp;x_{(1,1)}\\end{bmatrix}, Y = \\begin{bmatrix}y_{(0,0)}&amp;y_{(0,1)}\\\\ y_{(1,0)}&amp;y_{(1,1)}\\end{bmatrix}$$<br>\n",
        "The dot product will then be computed as:<br><br>$$X \\cdot Y= \\begin{bmatrix} x_{(0,0)}*y_{(0,0)} + x_{(0,1)}*y_{(1,0)} &amp; x_{(0,0)}*y_{(0,1)} + x_{(0,1)}*y_{(1,1)} \\\\  x_{(1,0)}*y_{(0,0)} + x_{(1,1)}*y_{(1,0)} &amp; x_{(1,0)}*y_{(0,1)} + x_{(1,1)}*y_{(1,1)}\n",
        "\\end{bmatrix}$$\n",
        "<br>\n",
        "So if we assign values to $X$ and $Y$:<br><br>$$X = \\begin{bmatrix}1&amp;2\\\\ 0&amp;1\\end{bmatrix}, Y = \\begin{bmatrix}-1&amp;0\\\\ 2&amp;2\\end{bmatrix}$$\n",
        "<br>\n",
        "$$X \\cdot Y= \\begin{bmatrix} 1*-1 + 2*2 &amp; 1*0 + 2*2 \\\\  0*-1 + 1*2 &amp; 0*0 + 1*2 \\end{bmatrix} = \\begin{bmatrix} 3 &amp; 4 \\\\2 &amp; 2 \\end{bmatrix}$$<br>\n",
        "This could be achieved programmatically using np.dot(), np.matmul() or the @ operator."
      ]
    },
    {
      "cell_type": "code",
      "metadata": {
        "id": "AJ9kfXefXyGu"
      },
      "source": [
        "X = np.array([\n",
        "    [1,2],\n",
        "    [0,1]\n",
        "])\n",
        "Y = np.array([\n",
        "    [-1,0],\n",
        "    [2,2]\n",
        "])"
      ],
      "execution_count": null,
      "outputs": []
    },
    {
      "cell_type": "code",
      "metadata": {
        "colab": {
          "base_uri": "https://localhost:8080/"
        },
        "id": "w2E5OGKrX0kM",
        "outputId": "dad652ad-09a0-4b4b-a4dd-f0443b68138e"
      },
      "source": [
        "np.dot(X,Y)"
      ],
      "execution_count": null,
      "outputs": [
        {
          "output_type": "execute_result",
          "data": {
            "text/plain": [
              "array([[3, 4],\n",
              "       [2, 2]])"
            ]
          },
          "metadata": {
            "tags": []
          },
          "execution_count": 12
        }
      ]
    },
    {
      "cell_type": "code",
      "metadata": {
        "colab": {
          "base_uri": "https://localhost:8080/"
        },
        "id": "eFHoDkUsX2XU",
        "outputId": "de50ae80-de47-478d-d2d9-3e640c903282"
      },
      "source": [
        "X.dot(Y)"
      ],
      "execution_count": null,
      "outputs": [
        {
          "output_type": "execute_result",
          "data": {
            "text/plain": [
              "array([[3, 4],\n",
              "       [2, 2]])"
            ]
          },
          "metadata": {
            "tags": []
          },
          "execution_count": 13
        }
      ]
    },
    {
      "cell_type": "code",
      "metadata": {
        "colab": {
          "base_uri": "https://localhost:8080/"
        },
        "id": "d2ML6mogX4Y8",
        "outputId": "4cde2cbd-aa21-49b0-85c0-6bf5dd212e32"
      },
      "source": [
        "X @ Y"
      ],
      "execution_count": null,
      "outputs": [
        {
          "output_type": "execute_result",
          "data": {
            "text/plain": [
              "array([[3, 4],\n",
              "       [2, 2]])"
            ]
          },
          "metadata": {
            "tags": []
          },
          "execution_count": 14
        }
      ]
    },
    {
      "cell_type": "code",
      "metadata": {
        "colab": {
          "base_uri": "https://localhost:8080/"
        },
        "id": "3Aui15iqX72U",
        "outputId": "8d04ac1c-cdd3-4333-8a65-7dd855c8d669"
      },
      "source": [
        "np.matmul(X,Y)"
      ],
      "execution_count": null,
      "outputs": [
        {
          "output_type": "execute_result",
          "data": {
            "text/plain": [
              "array([[3, 4],\n",
              "       [2, 2]])"
            ]
          },
          "metadata": {
            "tags": []
          },
          "execution_count": 15
        }
      ]
    },
    {
      "cell_type": "markdown",
      "metadata": {
        "id": "aZh2sYKzX-Uv"
      },
      "source": [
        "In matrix dot products there are additional rules compared with vector dot products. Since vector dot products were just in one dimension there are less restrictions. Since now we are dealing with Rank 2 vectors we need to consider some rules:"
      ]
    },
    {
      "cell_type": "markdown",
      "metadata": {
        "id": "vDYOesqqX_MU"
      },
      "source": [
        "**Rule 1: The inner dimensions of the two matrices in question must be the same.**<br>\n",
        "So given a matrix $A$ with a shape of $(a,b)$ where $a$ and $b$ are any integers. If we want to do a dot product between $A$ and another matrix $B$, then matrix $B$ should have a shape of $(b,c)$ where $b$ and $c$ are any integers. So for given the following matrices:<br>\n",
        "\n",
        "$$A = \\begin{bmatrix}2&4\\\\5&-2\\\\0&1\\end{bmatrix}, B = \\begin{bmatrix}1&1\\\\3&3\\\\-1&-2\\end{bmatrix}, C = \\begin{bmatrix}0&1&1\\\\1&1&2\\end{bmatrix}$$<br>\n",
        "\n",
        "So in this case $A$ has a shape of $(3,2)$, $B$ has a shape of $(3,2)$ and $C$ has a shape of $(2,3)$. So the only matrix pairs that is eligible to perform dot product is matrices $A \\cdot C$, or $B \\cdot C$.\n"
      ]
    },
    {
      "cell_type": "code",
      "metadata": {
        "colab": {
          "base_uri": "https://localhost:8080/"
        },
        "id": "tJLhDKc7YcZU",
        "outputId": "fd64814d-6fe9-4291-f4fd-cdb805057c2c"
      },
      "source": [
        "A = np.array([\n",
        "    [2, 4],\n",
        "    [5, -2],\n",
        "    [0, 1]\n",
        "])\n",
        "B = np.array([\n",
        "    [1,1],\n",
        "    [3,3],\n",
        "    [-1,-2]\n",
        "])\n",
        "C = np.array([\n",
        "    [0,1,1],\n",
        "    [1,1,2]\n",
        "])\n",
        "print(A.shape)\n",
        "print(B.shape)\n",
        "print(C.shape)"
      ],
      "execution_count": null,
      "outputs": [
        {
          "output_type": "stream",
          "text": [
            "(3, 2)\n",
            "(3, 2)\n",
            "(2, 3)\n"
          ],
          "name": "stdout"
        }
      ]
    },
    {
      "cell_type": "code",
      "metadata": {
        "colab": {
          "base_uri": "https://localhost:8080/"
        },
        "id": "3hC1cQNcYfbb",
        "outputId": "699c78e6-e030-4b55-db82-3513efb6ea24"
      },
      "source": [
        "A @ C"
      ],
      "execution_count": null,
      "outputs": [
        {
          "output_type": "execute_result",
          "data": {
            "text/plain": [
              "array([[ 4,  6, 10],\n",
              "       [-2,  3,  1],\n",
              "       [ 1,  1,  2]])"
            ]
          },
          "metadata": {
            "tags": []
          },
          "execution_count": 17
        }
      ]
    },
    {
      "cell_type": "code",
      "metadata": {
        "colab": {
          "base_uri": "https://localhost:8080/"
        },
        "id": "cfKQ8zIBYf_D",
        "outputId": "0dd8550d-f0c6-42bb-8696-8c9f8f28582f"
      },
      "source": [
        "B @ C"
      ],
      "execution_count": null,
      "outputs": [
        {
          "output_type": "execute_result",
          "data": {
            "text/plain": [
              "array([[ 1,  2,  3],\n",
              "       [ 3,  6,  9],\n",
              "       [-2, -3, -5]])"
            ]
          },
          "metadata": {
            "tags": []
          },
          "execution_count": 18
        }
      ]
    },
    {
      "cell_type": "code",
      "metadata": {
        "colab": {
          "base_uri": "https://localhost:8080/"
        },
        "id": "RdjVj0VUYjLK",
        "outputId": "d4335b7e-c314-4cf3-d935-d4bd2b21a86a"
      },
      "source": [
        "A @ B.T"
      ],
      "execution_count": null,
      "outputs": [
        {
          "output_type": "execute_result",
          "data": {
            "text/plain": [
              "array([[  6,  18, -10],\n",
              "       [  3,   9,  -1],\n",
              "       [  1,   3,  -2]])"
            ]
          },
          "metadata": {
            "tags": []
          },
          "execution_count": 19
        }
      ]
    },
    {
      "cell_type": "code",
      "metadata": {
        "colab": {
          "base_uri": "https://localhost:8080/"
        },
        "id": "mnDPL9VWYn5i",
        "outputId": "51db00e4-2d5b-450d-a0aa-18e36a367327"
      },
      "source": [
        "X = np.array([\n",
        "    [1,2,3,0]\n",
        "])\n",
        "Y = np.array([\n",
        "    [1,0,4,-1]\n",
        "])\n",
        "print(X.shape)\n",
        "print(Y.shape)"
      ],
      "execution_count": null,
      "outputs": [
        {
          "output_type": "stream",
          "text": [
            "(1, 4)\n",
            "(1, 4)\n"
          ],
          "name": "stdout"
        }
      ]
    },
    {
      "cell_type": "code",
      "metadata": {
        "colab": {
          "base_uri": "https://localhost:8080/"
        },
        "id": "KghGH8qgZvgA",
        "outputId": "f278a682-fd91-4d7d-cfc1-9b986f5772a6"
      },
      "source": [
        "Y.T @ X"
      ],
      "execution_count": null,
      "outputs": [
        {
          "output_type": "execute_result",
          "data": {
            "text/plain": [
              "array([[ 1,  2,  3,  0],\n",
              "       [ 0,  0,  0,  0],\n",
              "       [ 4,  8, 12,  0],\n",
              "       [-1, -2, -3,  0]])"
            ]
          },
          "metadata": {
            "tags": []
          },
          "execution_count": 21
        }
      ]
    },
    {
      "cell_type": "markdown",
      "metadata": {
        "id": "w2cFFEYzZ1Bp"
      },
      "source": [
        "And youcan see that when you try to multiply A and B, it returns ValueError pertaining to matrix shape mismatch."
      ]
    },
    {
      "cell_type": "markdown",
      "metadata": {
        "id": "vih-gjovZ5P1"
      },
      "source": [
        "**Rule 2: Dot Product has special properties**<br>\n",
        "Dot products are prevalent in matrix algebra, this implies that it has several unique properties and it should be considered when formulation solutions:<br>\n",
        "\n",
        "1. $A \\cdot B \\neq B \\cdot A$\n",
        "2. $A \\cdot (B \\cdot C) = (A \\cdot B) \\cdot C$\n",
        "3. $A\\cdot(B+C) = A\\cdot B + A\\cdot C$\n",
        "4. $(B+C)\\cdot A = B\\cdot A + C\\cdot A$\n",
        "5. $A\\cdot I = A$\n",
        "6. $A\\cdot \\emptyset = \\emptyset$\n",
        "<br>\n",
        "\n",
        "I'll be doing just one of the properties and I'll leave the rest to test your skills!"
      ]
    },
    {
      "cell_type": "code",
      "metadata": {
        "id": "2z0oxlIeZ18_"
      },
      "source": [
        "A = np.array([\n",
        "    [3,2,1],\n",
        "    [4,5,1],\n",
        "    [1,1,0]\n",
        "])\n",
        "B = np.array([\n",
        "    [4,1,6],\n",
        "    [4,1,9],\n",
        "    [1,4,8]\n",
        "])\n",
        "C = np.array([\n",
        "    [1,1,0],\n",
        "    [0,1,1],\n",
        "    [1,0,1]\n",
        "])"
      ],
      "execution_count": null,
      "outputs": []
    },
    {
      "cell_type": "code",
      "metadata": {
        "colab": {
          "base_uri": "https://localhost:8080/"
        },
        "id": "RFPY-Xw0d6KF",
        "outputId": "70365050-41d2-4870-93ae-4216b4dd5847"
      },
      "source": [
        "A.dot(np.zeros(A.shape))"
      ],
      "execution_count": null,
      "outputs": [
        {
          "output_type": "execute_result",
          "data": {
            "text/plain": [
              "array([[0., 0., 0.],\n",
              "       [0., 0., 0.],\n",
              "       [0., 0., 0.]])"
            ]
          },
          "metadata": {
            "tags": []
          },
          "execution_count": 23
        }
      ]
    },
    {
      "cell_type": "code",
      "metadata": {
        "colab": {
          "base_uri": "https://localhost:8080/"
        },
        "id": "5lMKCfhOd9WE",
        "outputId": "827391ed-dd48-458e-e84a-acb32cdbe0a9"
      },
      "source": [
        "z_mat = np.zeros(A.shape)\n",
        "z_mat"
      ],
      "execution_count": null,
      "outputs": [
        {
          "output_type": "execute_result",
          "data": {
            "text/plain": [
              "array([[0., 0., 0.],\n",
              "       [0., 0., 0.],\n",
              "       [0., 0., 0.]])"
            ]
          },
          "metadata": {
            "tags": []
          },
          "execution_count": 24
        }
      ]
    },
    {
      "cell_type": "code",
      "metadata": {
        "colab": {
          "base_uri": "https://localhost:8080/"
        },
        "id": "fgNcn9Dmd_Ys",
        "outputId": "3c8c1d84-3506-4881-f2fe-ba0abf86a000"
      },
      "source": [
        "a_dot_z = A.dot(np.zeros(A.shape))\n",
        "a_dot_z"
      ],
      "execution_count": null,
      "outputs": [
        {
          "output_type": "execute_result",
          "data": {
            "text/plain": [
              "array([[0., 0., 0.],\n",
              "       [0., 0., 0.],\n",
              "       [0., 0., 0.]])"
            ]
          },
          "metadata": {
            "tags": []
          },
          "execution_count": 25
        }
      ]
    },
    {
      "cell_type": "code",
      "metadata": {
        "colab": {
          "base_uri": "https://localhost:8080/"
        },
        "id": "nu1iOf2ieBRv",
        "outputId": "e0147569-5111-4bf8-db5d-7d5f476b06bb"
      },
      "source": [
        "np.array_equal(a_dot_z,z_mat)"
      ],
      "execution_count": null,
      "outputs": [
        {
          "output_type": "execute_result",
          "data": {
            "text/plain": [
              "True"
            ]
          },
          "metadata": {
            "tags": []
          },
          "execution_count": 26
        }
      ]
    },
    {
      "cell_type": "code",
      "metadata": {
        "colab": {
          "base_uri": "https://localhost:8080/"
        },
        "id": "ddTa_2u1eBzc",
        "outputId": "f3c15907-00b5-4b41-e6c2-32650a3742c7"
      },
      "source": [
        "null_mat = np.empty(A.shape, dtype=float)\n",
        "null = np.array(null_mat,dtype=float)\n",
        "print(null)\n",
        "np.allclose(a_dot_z,null)"
      ],
      "execution_count": null,
      "outputs": [
        {
          "output_type": "stream",
          "text": [
            "[[0. 0. 0.]\n",
            " [0. 0. 0.]\n",
            " [0. 0. 0.]]\n"
          ],
          "name": "stdout"
        },
        {
          "output_type": "execute_result",
          "data": {
            "text/plain": [
              "True"
            ]
          },
          "metadata": {
            "tags": []
          },
          "execution_count": 27
        }
      ]
    },
    {
      "cell_type": "markdown",
      "metadata": {
        "id": "I3ULIcOFeKZj"
      },
      "source": [
        "#**Determinant**<br>\n",
        "\n",
        "A determinant is a scalar value derived from a square matrix. The determinant is a fundamental and important value used in matrix algebra. Although it will not be evident in this laboratory on how it can be used practically, but it will be reatly used in future lessons.\n",
        "\n",
        "The determinant of some matrix $A$ is denoted as $det(A)$ or $|A|$. So let's say $A$ is represented as:$$A = \\begin{bmatrix}a_{(0,0)}&amp;a_{(0,1)}\\\\a_{(1,0)}&amp;a_{(1,1)}\\end{bmatrix}$$We can compute for the determinant as:$$|A| = a_{(0,0)}*a_{(1,1)} - a_{(1,0)}*a_{(0,1)}$$So if we have $A$ as:$$A = \\begin{bmatrix}1&amp;4\\\\0&amp;3\\end{bmatrix}, |A| = 3$$\n",
        "\n",
        "But you might wonder how about square matrices beyond the shape $(2,2)$? We can approach this problem by using several methods such as co-factor expansion and the minors method. This can be taught in the lecture of the laboratory but we can achieve the strenuous computation of high-dimensional matrices programmatically using Python. We can achieve this by using np.linalg.det()."
      ]
    },
    {
      "cell_type": "code",
      "metadata": {
        "id": "wfghm2u6eWce",
        "colab": {
          "base_uri": "https://localhost:8080/"
        },
        "outputId": "a81f6c7b-5a3f-4942-86a4-2bf2836d3cfb"
      },
      "source": [
        "A = np.array([\n",
        "    [1,4],\n",
        "    [0,3]\n",
        "])\n",
        "np.linalg.det(A)"
      ],
      "execution_count": null,
      "outputs": [
        {
          "output_type": "execute_result",
          "data": {
            "text/plain": [
              "3.0000000000000004"
            ]
          },
          "metadata": {
            "tags": []
          },
          "execution_count": 75
        }
      ]
    },
    {
      "cell_type": "code",
      "metadata": {
        "id": "1-RBTyy9eYor",
        "colab": {
          "base_uri": "https://localhost:8080/"
        },
        "outputId": "023be57c-4af8-414a-d040-0f6c9e26d216"
      },
      "source": [
        "## Now other mathematics classes would require you to solve this by hand, \n",
        "## and that is great for practicing your memorization and coordination skills \n",
        "## but in this class we aim for simplicity and speed so we'll use programming\n",
        "## but it's completely fine if you want to try to solve this one by hand.\n",
        "B = np.array([\n",
        "    [1,3,5,6],\n",
        "    [0,3,1,3],\n",
        "    [3,1,8,2],\n",
        "    [5,2,6,8]\n",
        "])\n",
        "np.linalg.det(B)"
      ],
      "execution_count": null,
      "outputs": [
        {
          "output_type": "execute_result",
          "data": {
            "text/plain": [
              "-235.0000000000002"
            ]
          },
          "metadata": {
            "tags": []
          },
          "execution_count": 76
        }
      ]
    },
    {
      "cell_type": "markdown",
      "metadata": {
        "id": "dVY21Dz4ea7m"
      },
      "source": [
        "#**Inverse**<br>\n",
        "\n",
        "The inverse of a matrix is another fundamental operation in matrix algebra. Determining the inverse of a matrix let us determine if its solvability and its characteristic as a system of linear equation — we'll expand on this in the nect module. Another use of the inverse matrix is solving the problem of divisibility between matrices. Although element-wise division exists but dividing the entire concept of matrices does not exists. Inverse matrices provides a related operation that could have the same concept of \"dividing\" matrices.\n",
        "\n",
        "Now to determine the inverse of a matrix we need to perform several steps. So let's say we have a matrix $M$:$$M = \\begin{bmatrix}1&amp;7\\\\-3&amp;5\\end{bmatrix}$$First, we need to get the determinant of $M$.$$|M| = (1)(5)-(-3)(7) = 26$$Next, we need to reform the matrix into the inverse form:$$M^{-1} = \\frac{1}{|M|} \\begin{bmatrix} m_{(1,1)} &amp; -m_{(0,1)} \\\\ -m_{(1,0)} &amp; m_{(0,0)}\\end{bmatrix}$$So that will be:$$M^{-1} = \\frac{1}{26} \\begin{bmatrix} 5 &amp; -7 \\\\ 3 &amp; 1\\end{bmatrix} = \\begin{bmatrix} \\frac{5}{26} &amp; \\frac{-7}{26} \\\\ \\frac{3}{26} &amp; \\frac{1}{26}\\end{bmatrix}$$For higher-dimension matrices you might need to use co-factors, minors, adjugates, and other reduction techinques. To solve this programmatially we can use np.linalg.inv()."
      ]
    },
    {
      "cell_type": "code",
      "metadata": {
        "id": "S0uRFxWQelP2",
        "colab": {
          "base_uri": "https://localhost:8080/"
        },
        "outputId": "db1fc0b7-bcd9-4315-8d96-5eeebfac1fc5"
      },
      "source": [
        "M = np.array([\n",
        "    [1,7],\n",
        "    [-3, 5]\n",
        "])\n",
        "\n",
        "np.array(M @ np.linalg.inv(M), dtype=int)"
      ],
      "execution_count": null,
      "outputs": [
        {
          "output_type": "execute_result",
          "data": {
            "text/plain": [
              "array([[1, 0],\n",
              "       [0, 1]])"
            ]
          },
          "metadata": {
            "tags": []
          },
          "execution_count": 30
        }
      ]
    },
    {
      "cell_type": "code",
      "metadata": {
        "id": "KD8o8q65eoE7",
        "colab": {
          "base_uri": "https://localhost:8080/"
        },
        "outputId": "783b9010-4d89-4b83-bd01-74a281d680e1"
      },
      "source": [
        "## And now let's test your skills in solving a matrix with high dimensions:\n",
        "N = np.array([\n",
        "    [18,5,23,1,0,33,5],\n",
        "    [0,45,0,11,2,4,2],\n",
        "    [5,9,20,0,0,0,3],\n",
        "    [1,6,4,4,8,43,1],\n",
        "    [8,6,8,7,1,6,1],\n",
        "    [-5,15,2,0,0,6,-30],\n",
        "    [-2,-5,1,2,1,20,12],\n",
        "])\n",
        "N_inv = np.linalg.inv(N)\n",
        "np.array(N @ N_inv,dtype=int)"
      ],
      "execution_count": null,
      "outputs": [
        {
          "output_type": "execute_result",
          "data": {
            "text/plain": [
              "array([[0, 0, 0, 0, 0, 0, 0],\n",
              "       [0, 0, 0, 0, 0, 0, 0],\n",
              "       [0, 0, 1, 0, 0, 0, 0],\n",
              "       [0, 0, 0, 1, 0, 0, 0],\n",
              "       [0, 0, 0, 0, 0, 0, 0],\n",
              "       [0, 0, 0, 0, 0, 0, 0],\n",
              "       [0, 0, 0, 0, 0, 0, 0]])"
            ]
          },
          "metadata": {
            "tags": []
          },
          "execution_count": 31
        }
      ]
    },
    {
      "cell_type": "markdown",
      "metadata": {
        "id": "uBObzWkber-S"
      },
      "source": [
        "To validate the wether if the matric that you have solved is really the inverse, we follow this dot product property for a matrix $M$:$$M\\cdot M^{-1} = I$$"
      ]
    },
    {
      "cell_type": "code",
      "metadata": {
        "colab": {
          "base_uri": "https://localhost:8080/"
        },
        "id": "CgRi4_gtestj",
        "outputId": "c64a541b-0ac2-4aca-9463-11469502494f"
      },
      "source": [
        "squad = np.array([\n",
        "    [1.0, 1.0, 0.5],\n",
        "    [0.7, 0.7, 0.9],\n",
        "    [0.3, 0.3, 1.0]\n",
        "])\n",
        "weights = np.array([\n",
        "    [0.2, 0.2, 0.6]\n",
        "])\n",
        "p_grade = squad @ weights.T\n",
        "p_grade"
      ],
      "execution_count": null,
      "outputs": [
        {
          "output_type": "execute_result",
          "data": {
            "text/plain": [
              "array([[0.7 ],\n",
              "       [0.82],\n",
              "       [0.72]])"
            ]
          },
          "metadata": {
            "tags": []
          },
          "execution_count": 32
        }
      ]
    },
    {
      "cell_type": "markdown",
      "metadata": {
        "id": "dwSUxRjghUXh"
      },
      "source": [
        "###**Activity**<br>"
      ]
    },
    {
      "cell_type": "markdown",
      "metadata": {
        "id": "5jDAIfprhasq"
      },
      "source": [
        "**Task 1**<br>\n",
        "Prove and implement the remaining 6 matrix multiplication properties. You may create your own matrices in which their shapes should not be lower than $(3,3)$. In your methodology, create individual flowcharts for each property and discuss the property you would then present your proofs or validity of your implementation in the results section by comparing your result to present functions from NumPy."
      ]
    },
    {
      "cell_type": "markdown",
      "metadata": {
        "id": "rfpF-3C4yX8O"
      },
      "source": [
        "**Latex Form**\n",
        "$$ A=\\begin{bmatrix} 2 & 3 & 4 \\\\ 1 & 2 & -3 \\\\ 3 & -1 & 3\\end{bmatrix} \\\\ $$<br>\n",
        "\n",
        "$$ B=\\begin{bmatrix} -1 & 2 & 1  \\\\ 2 & -4 & -2 \\\\ 3 & 2 & -2 \\end{bmatrix} \\\\ $$<br>\n",
        "\n",
        "$$ C=\\begin{bmatrix} 0.01 & -2 & 7 \\\\ 4 & -1.50 & 1.45 \\\\ -1.3 & 2 & 5.25 \\end{bmatrix} \\\\ $$<br>"
      ]
    },
    {
      "cell_type": "markdown",
      "metadata": {
        "id": "PdphN2jLyAnv"
      },
      "source": [
        "**Matrix declarations**"
      ]
    },
    {
      "cell_type": "code",
      "metadata": {
        "id": "I0aLi1x6i0MP"
      },
      "source": [
        "A = np.array([\n",
        "              [2, 3, 4],\n",
        "              [1, 2, -3],\n",
        "              [3, -1, -3]\n",
        "              #[-5, 4, -4]\n",
        "])\n",
        "\n",
        "B = np.array([\n",
        "              [-1, 2, 1],\n",
        "              [2, -4, -2],\n",
        "              [3, 2, -2]\n",
        "])\n",
        "\n",
        "C = np.array([\n",
        "              [0.01, -2, 7],\n",
        "              [-4, -1.50, 1.45],\n",
        "              [-1.3, 2, 5.25]\n",
        "              #[2.5, 1.5, -2.75, 0.12]\n",
        "])"
      ],
      "execution_count": null,
      "outputs": []
    },
    {
      "cell_type": "markdown",
      "metadata": {
        "id": "fSUXUP8931TV"
      },
      "source": [
        "**Shapes**"
      ]
    },
    {
      "cell_type": "code",
      "metadata": {
        "id": "RGrMYNB035WW"
      },
      "source": [
        "def mat_desc(matrix): \n",
        "  is_square = True if matrix.shape[0] == matrix.shape[1] else False \n",
        "  print(f'Matrix:\\n{matrix}\\n\\nShape:\\t{matrix.shape}')"
      ],
      "execution_count": null,
      "outputs": []
    },
    {
      "cell_type": "code",
      "metadata": {
        "colab": {
          "base_uri": "https://localhost:8080/"
        },
        "id": "yI4NBs785UnF",
        "outputId": "cd281f25-36ed-4c5d-d1e3-ee33240c5e05"
      },
      "source": [
        "mat_desc(A)"
      ],
      "execution_count": null,
      "outputs": [
        {
          "output_type": "stream",
          "text": [
            "Matrix:\n",
            "[[ 2  3  4]\n",
            " [ 1  2 -3]\n",
            " [ 3 -1 -3]]\n",
            "\n",
            "Shape:\t(3, 3)\n"
          ],
          "name": "stdout"
        }
      ]
    },
    {
      "cell_type": "code",
      "metadata": {
        "colab": {
          "base_uri": "https://localhost:8080/"
        },
        "id": "gV3COsEl5yx1",
        "outputId": "f7e8e0df-9acf-4b1e-df0c-8cacfc702c4c"
      },
      "source": [
        "mat_desc(B)"
      ],
      "execution_count": null,
      "outputs": [
        {
          "output_type": "stream",
          "text": [
            "Matrix:\n",
            "[[-1  2  1]\n",
            " [ 2 -4 -2]\n",
            " [ 3  2 -2]]\n",
            "\n",
            "Shape:\t(3, 3)\n"
          ],
          "name": "stdout"
        }
      ]
    },
    {
      "cell_type": "code",
      "metadata": {
        "colab": {
          "base_uri": "https://localhost:8080/"
        },
        "id": "MEKA54RI52dU",
        "outputId": "f9013cab-638f-420e-9bcb-fd25955a1610"
      },
      "source": [
        "mat_desc(C)"
      ],
      "execution_count": null,
      "outputs": [
        {
          "output_type": "stream",
          "text": [
            "Matrix:\n",
            "[[ 0.01 -2.    7.  ]\n",
            " [-4.   -1.5   1.45]\n",
            " [-1.3   2.    5.25]]\n",
            "\n",
            "Shape:\t(3, 3)\n"
          ],
          "name": "stdout"
        }
      ]
    },
    {
      "cell_type": "markdown",
      "metadata": {
        "id": "S8JkuJM_zKQ8"
      },
      "source": [
        "#1.  $A \\cdot B \\neq B \\cdot A$"
      ]
    },
    {
      "cell_type": "code",
      "metadata": {
        "colab": {
          "base_uri": "https://localhost:8080/"
        },
        "id": "yo-2r_uZiUiq",
        "outputId": "b9b99515-0c48-421b-ba88-5c7701e6e5da"
      },
      "source": [
        "x = A @ B\n",
        "print (\"A * B:\\n\",x)"
      ],
      "execution_count": null,
      "outputs": [
        {
          "output_type": "stream",
          "text": [
            "A * B:\n",
            " [[ 16   0 -12]\n",
            " [ -6 -12   3]\n",
            " [-14   4  11]]\n"
          ],
          "name": "stdout"
        }
      ]
    },
    {
      "cell_type": "code",
      "metadata": {
        "colab": {
          "base_uri": "https://localhost:8080/"
        },
        "id": "TPUkVhWj6SCi",
        "outputId": "bc4d4f96-ac4d-4224-fa5f-f6c51203a163"
      },
      "source": [
        "y = B @ A\n",
        "print (\"B * A:\\n\",y)"
      ],
      "execution_count": null,
      "outputs": [
        {
          "output_type": "stream",
          "text": [
            "B * A:\n",
            " [[  3   0 -13]\n",
            " [ -6   0  26]\n",
            " [  2  15  12]]\n"
          ],
          "name": "stdout"
        }
      ]
    },
    {
      "cell_type": "code",
      "metadata": {
        "colab": {
          "base_uri": "https://localhost:8080/"
        },
        "id": "AFEZUCnl6YIo",
        "outputId": "91333295-d5f2-471e-edd8-4455ff098927"
      },
      "source": [
        "z = np.array_equal(x,y,)\n",
        "print (\"A * B = B * A:\",z)"
      ],
      "execution_count": null,
      "outputs": [
        {
          "output_type": "stream",
          "text": [
            "A * B = B * A: False\n"
          ],
          "name": "stdout"
        }
      ]
    },
    {
      "cell_type": "markdown",
      "metadata": {
        "id": "G-F9-XwqIrEV"
      },
      "source": [
        "#**2. $A \\cdot (B \\cdot C) = (A \\cdot B) \\cdot C$**"
      ]
    },
    {
      "cell_type": "code",
      "metadata": {
        "colab": {
          "base_uri": "https://localhost:8080/"
        },
        "id": "D1oE_wA3IxVp",
        "outputId": "39720ac2-9b07-49da-d6e1-807237f1b1b6"
      },
      "source": [
        "q = A @ (B @ C)\n",
        "print (\"A * (B * C):\\n\",q)"
      ],
      "execution_count": null,
      "outputs": [
        {
          "output_type": "stream",
          "text": [
            "A * (B * C):\n",
            " [[ 15.76 -56.    49.  ]\n",
            " [ 44.04  36.   -43.65]\n",
            " [-30.44  44.   -34.45]]\n"
          ],
          "name": "stdout"
        }
      ]
    },
    {
      "cell_type": "code",
      "metadata": {
        "colab": {
          "base_uri": "https://localhost:8080/"
        },
        "id": "yGu5eMAHI8Jy",
        "outputId": "53d6a1d1-fb0b-49c7-c9a6-12d585d77813"
      },
      "source": [
        "w = (A @ B) @ C\n",
        "print (\"(A * B) * C:\\n\",w)"
      ],
      "execution_count": null,
      "outputs": [
        {
          "output_type": "stream",
          "text": [
            "(A * B) * C:\n",
            " [[ 15.76 -56.    49.  ]\n",
            " [ 44.04  36.   -43.65]\n",
            " [-30.44  44.   -34.45]]\n"
          ],
          "name": "stdout"
        }
      ]
    },
    {
      "cell_type": "code",
      "metadata": {
        "colab": {
          "base_uri": "https://localhost:8080/"
        },
        "id": "1pYpktF8JSJx",
        "outputId": "e83c7f4d-33fc-4d5f-acdc-45b27c04648d"
      },
      "source": [
        "e = np.array_equal(w,q)\n",
        "print (\"A * (B * C) = (A * B) * C: \",e)"
      ],
      "execution_count": null,
      "outputs": [
        {
          "output_type": "stream",
          "text": [
            "A * (B * C) = (A * B) * C:  False\n"
          ],
          "name": "stdout"
        }
      ]
    },
    {
      "cell_type": "markdown",
      "metadata": {
        "id": "y9oHUul_LdA6"
      },
      "source": [
        "#**3. $A\\cdot(B+C) = A\\cdot B + A\\cdot C$**"
      ]
    },
    {
      "cell_type": "code",
      "metadata": {
        "colab": {
          "base_uri": "https://localhost:8080/"
        },
        "id": "S0Y88N6CLi7E",
        "outputId": "a60c676a-5ea1-4cb1-9da5-baf9e9f2762d"
      },
      "source": [
        "m = A @ (B + C)\n",
        "print (\"A * (B + C):\\n\",m)"
      ],
      "execution_count": null,
      "outputs": [
        {
          "output_type": "stream",
          "text": [
            "A * (B + C):\n",
            " [[ -1.18  -0.5   27.35]\n",
            " [-10.09 -23.    -2.85]\n",
            " [ -6.07  -6.5   14.8 ]]\n"
          ],
          "name": "stdout"
        }
      ]
    },
    {
      "cell_type": "code",
      "metadata": {
        "colab": {
          "base_uri": "https://localhost:8080/"
        },
        "id": "F6DnAwr6zTzB",
        "outputId": "b7c631cb-e7dd-46c6-8757-f1c42f0e720d"
      },
      "source": [
        "i = A@B + A@C\n",
        "print (\"A * B + A * C:\\n\",i)"
      ],
      "execution_count": null,
      "outputs": [
        {
          "output_type": "stream",
          "text": [
            "A * B + A * C:\n",
            " [[ -1.18  -0.5   27.35]\n",
            " [-10.09 -23.    -2.85]\n",
            " [ -6.07  -6.5   14.8 ]]\n"
          ],
          "name": "stdout"
        }
      ]
    },
    {
      "cell_type": "code",
      "metadata": {
        "colab": {
          "base_uri": "https://localhost:8080/"
        },
        "id": "5SX0KNPiMCUt",
        "outputId": "424853aa-9d25-4d34-9d52-3d0174dc5ee9"
      },
      "source": [
        "d = np.array_equal(i,m)\n",
        "print (\"A * (B + C) = A * B + A * C: \",d)"
      ],
      "execution_count": null,
      "outputs": [
        {
          "output_type": "stream",
          "text": [
            "A * (B + C) = A * B + A * C:  False\n"
          ],
          "name": "stdout"
        }
      ]
    },
    {
      "cell_type": "markdown",
      "metadata": {
        "id": "jX20YK5WNe_V"
      },
      "source": [
        "#**4. $(B+C)\\cdot A = B\\cdot A + C\\cdot A$**"
      ]
    },
    {
      "cell_type": "code",
      "metadata": {
        "colab": {
          "base_uri": "https://localhost:8080/"
        },
        "id": "QfIugNiT1tm2",
        "outputId": "1b86f3d8-e167-4c88-9221-175f724ced61"
      },
      "source": [
        "xx = (B + C) @ A\n",
        "print (\"(B + C) * A:\\n\",xx)"
      ],
      "execution_count": null,
      "outputs": [
        {
          "output_type": "stream",
          "text": [
            "(B + C) * A:\n",
            " [[ 22.02 -10.97 -27.96]\n",
            " [-11.15 -16.45  10.15]\n",
            " [ 17.15   9.85 -14.95]]\n"
          ],
          "name": "stdout"
        }
      ]
    },
    {
      "cell_type": "code",
      "metadata": {
        "colab": {
          "base_uri": "https://localhost:8080/"
        },
        "id": "vJkOt8vK2Ec4",
        "outputId": "355073a4-a9bd-4240-bc3d-1002205dea64"
      },
      "source": [
        "yy = B@A + C@A\n",
        "print (\"B * A + C * A:\\n\",yy)"
      ],
      "execution_count": null,
      "outputs": [
        {
          "output_type": "stream",
          "text": [
            "B * A + C * A:\n",
            " [[ 22.02 -10.97 -27.96]\n",
            " [-11.15 -16.45  10.15]\n",
            " [ 17.15   9.85 -14.95]]\n"
          ],
          "name": "stdout"
        }
      ]
    },
    {
      "cell_type": "code",
      "metadata": {
        "colab": {
          "base_uri": "https://localhost:8080/"
        },
        "id": "1ztLM8SQ2Rd3",
        "outputId": "65918333-99b9-4365-d3d6-f5141dad8d44"
      },
      "source": [
        "zz = np.array_equal(xx,yy)\n",
        "print (\"A * (B + C) = B * A + C * A: \",zz)"
      ],
      "execution_count": null,
      "outputs": [
        {
          "output_type": "stream",
          "text": [
            "A * (B + C) = B * A + C * A:  False\n"
          ],
          "name": "stdout"
        }
      ]
    },
    {
      "cell_type": "markdown",
      "metadata": {
        "id": "ZJvmc5QfNnLD"
      },
      "source": [
        "#**5. $A\\cdot I = A$**"
      ]
    },
    {
      "cell_type": "code",
      "metadata": {
        "colab": {
          "base_uri": "https://localhost:8080/"
        },
        "id": "ZsUuwDW_NtlZ",
        "outputId": "1aec4d4f-fd91-478a-e8d9-4994e1545a34"
      },
      "source": [
        "print (\"Matrix A:\\n\",A)"
      ],
      "execution_count": null,
      "outputs": [
        {
          "output_type": "stream",
          "text": [
            "Matrix A:\n",
            " [[ 0.01 -2.    7.  ]\n",
            " [-4.   -1.5   1.45]\n",
            " [-1.3   2.    5.25]]\n"
          ],
          "name": "stdout"
        }
      ]
    },
    {
      "cell_type": "code",
      "metadata": {
        "id": "Frd9ENK5OoOH",
        "colab": {
          "base_uri": "https://localhost:8080/"
        },
        "outputId": "c707797c-dce4-4590-d41b-700750371365"
      },
      "source": [
        "A_inv = np.linalg.inv(A)\n",
        "print (\"Inverse of A:\\n\",A_inv)"
      ],
      "execution_count": null,
      "outputs": [
        {
          "output_type": "stream",
          "text": [
            "Inverse of A:\n",
            " [[ 0.140625 -0.078125  0.265625]\n",
            " [ 0.09375   0.28125  -0.15625 ]\n",
            " [ 0.109375 -0.171875 -0.015625]]\n"
          ],
          "name": "stdout"
        }
      ]
    },
    {
      "cell_type": "code",
      "metadata": {
        "colab": {
          "base_uri": "https://localhost:8080/"
        },
        "id": "kP4MxePsHuSo",
        "outputId": "289f6b35-622d-428d-b2f4-22ed1d145a33"
      },
      "source": [
        "nope = np.array(A @ np.linalg.inv(A), dtype=int)\r\n",
        "nope"
      ],
      "execution_count": null,
      "outputs": [
        {
          "output_type": "execute_result",
          "data": {
            "text/plain": [
              "array([[1, 0, 0],\n",
              "       [0, 1, 0],\n",
              "       [0, 0, 1]])"
            ]
          },
          "metadata": {
            "tags": []
          },
          "execution_count": 38
        }
      ]
    },
    {
      "cell_type": "code",
      "metadata": {
        "colab": {
          "base_uri": "https://localhost:8080/"
        },
        "id": "AnUIiStGToI6",
        "outputId": "1f4b06d9-a4a9-42e7-fd97-7311805a4406"
      },
      "source": [
        "bee = np.array_equal(A,nope)\r\n",
        "print (\"A * I = A: \",bee)"
      ],
      "execution_count": null,
      "outputs": [
        {
          "output_type": "stream",
          "text": [
            "A * I = A:  False\n"
          ],
          "name": "stdout"
        }
      ]
    },
    {
      "cell_type": "markdown",
      "metadata": {
        "id": "rig_2HI3NuBr"
      },
      "source": [
        "#**6. $A\\cdot \\emptyset = \\emptyset$**"
      ]
    },
    {
      "cell_type": "code",
      "metadata": {
        "colab": {
          "base_uri": "https://localhost:8080/"
        },
        "id": "uqmOu8OYYr0f",
        "outputId": "0113db24-698c-4801-c1d2-d59cdb907443"
      },
      "source": [
        "zeroo = np.zeros(A.shape)\r\n",
        "zeroo"
      ],
      "execution_count": null,
      "outputs": [
        {
          "output_type": "execute_result",
          "data": {
            "text/plain": [
              "array([[0., 0., 0.],\n",
              "       [0., 0., 0.],\n",
              "       [0., 0., 0.]])"
            ]
          },
          "metadata": {
            "tags": []
          },
          "execution_count": 45
        }
      ]
    },
    {
      "cell_type": "code",
      "metadata": {
        "colab": {
          "base_uri": "https://localhost:8080/"
        },
        "id": "znezyeuVjZC3",
        "outputId": "0cbf8cdd-0c26-4c6e-a889-50f007544f98"
      },
      "source": [
        "zero = A.dot(np.zeros(A.shape))\r\n",
        "print (\"A * ∅: \\n\",zero)"
      ],
      "execution_count": null,
      "outputs": [
        {
          "output_type": "stream",
          "text": [
            "A * ∅: \n",
            " [[0. 0. 0.]\n",
            " [0. 0. 0.]\n",
            " [0. 0. 0.]]\n"
          ],
          "name": "stdout"
        }
      ]
    },
    {
      "cell_type": "code",
      "metadata": {
        "colab": {
          "base_uri": "https://localhost:8080/"
        },
        "id": "OYW6KFn5Y4B8",
        "outputId": "39c364cb-592a-4f18-8feb-b3d9a7568c9b"
      },
      "source": [
        "true = np.array_equal(zero,zeroo)\r\n",
        "print (\"A * ∅ = ∅: \",true)"
      ],
      "execution_count": null,
      "outputs": [
        {
          "output_type": "stream",
          "text": [
            "A * ∅ = ∅:  True\n"
          ],
          "name": "stdout"
        }
      ]
    }
  ]
}